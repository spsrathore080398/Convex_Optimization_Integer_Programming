{
 "cells": [
  {
   "cell_type": "code",
   "execution_count": 56,
   "id": "5817fdb1",
   "metadata": {},
   "outputs": [],
   "source": [
    "import numpy as np\n",
    "from cvxopt import matrix,solvers\n",
    "import math \n",
    "import time"
   ]
  },
  {
   "cell_type": "markdown",
   "id": "a601204b",
   "metadata": {},
   "source": [
    "We have done the production planning application and defined the A,B and C matrix in standard form(max C^T.x such \n",
    "that Ax<=b, modify those accordingly for different examples,(for max C^T.x with constraint AX <=B, C array values should be written in negative, if we have to maximize function )"
   ]
  },
  {
   "cell_type": "code",
   "execution_count": 57,
   "id": "180fb11f",
   "metadata": {},
   "outputs": [],
   "source": [
    "\n",
    "A=np.array([[100,60,120,70],[-2,-1,0,0],[0,0,-3,-2],[1,1,0,0],[0,0,1,1]]).astype(np.float64)\n",
    "B=np.array([990,-7,-16,10,6]).astype(np.float64)\n",
    "C=np.array([-40,-20,-30,-10]).astype(np.float64)\n",
    "solution=[]\n",
    "iterations=[]"
   ]
  },
  {
   "cell_type": "markdown",
   "id": "1e2f2985",
   "metadata": {},
   "source": [
    "In Branch and Cut Algorithm, we use both branching and cuts, so different preprocessing is required for both the algorithms, which is what we have done below "
   ]
  },
  {
   "cell_type": "code",
   "execution_count": 58,
   "id": "cbdde698",
   "metadata": {},
   "outputs": [],
   "source": [
    "def preprocessing_CP(c,a,b):\n",
    "    Nc=np.shape(a)[0] #  no of constraints\n",
    "    c=np.hstack((c,(np.zeros(Nc+1))))\n",
    "    I=np.eye(Nc)\n",
    "    tableau=np.append(a,I,axis=1)\n",
    "    tableau=np.vstack([tableau.T,b])\n",
    "    tableau=tableau.T\n",
    "    tableau=np.vstack([tableau,c])\n",
    "    return tableau"
   ]
  },
  {
   "cell_type": "code",
   "execution_count": 59,
   "id": "38af7388",
   "metadata": {},
   "outputs": [],
   "source": [
    "def preprocessing_BAB(c,a,b) :\n",
    "    Nc=np.shape(a)[0]\n",
    "    Nv=np.shape(a)[1]\n",
    "    b=np.hstack((b,(np.zeros(Nv))))\n",
    "    I=np.eye(Nv)\n",
    "    a=np.append(a,-I,axis=0)\n",
    "    c=matrix(c)\n",
    "    b=matrix(b)\n",
    "    a=matrix(a)\n",
    "    return c,a,b\n",
    "    "
   ]
  },
  {
   "cell_type": "markdown",
   "id": "ed94963d",
   "metadata": {},
   "source": [
    "We have written the code for solving simplex tableau through which we will generate the cuts"
   ]
  },
  {
   "cell_type": "code",
   "execution_count": 60,
   "id": "52ec72dd",
   "metadata": {},
   "outputs": [],
   "source": [
    "def simplex(a,A):\n",
    "    fv=[]\n",
    "    infeasible=0\n",
    "    Nc=np.shape(A)[0]\n",
    "    Nv=np.shape(A)[1]\n",
    "    for i in range(Nc):\n",
    "        fv.append(Nv+i)\n",
    "    for k in range(1001):\n",
    "        if(np.all(a[-1,0:-1]>=0) and np.all(a[0:-1,-1]>=0)):\n",
    "            return a,fv,infeasible\n",
    "        else :\n",
    "            column=np.argmin(a[-1,0:-1]) \n",
    "            if a[-1][column]<0:\n",
    "                b=(a[0:-1,column])\n",
    "                b=np.where(b==0,0.0000000001,b)\n",
    "                ratio=((a[0:-1,-1])/b)\n",
    "                ratio=np.where(ratio<0.0001,100000,ratio)\n",
    "                for pivot in range(len(ratio)):\n",
    "                    if ratio[pivot]==0 and b[pivot]<=0 :\n",
    "                        ratio[pivot]=10000\n",
    "                row=np.argmin(ratio)\n",
    "                a[row,:]=a[row,:]/a[row][column]\n",
    "                fv[row]=column\n",
    "                for i in range(Nc+1):\n",
    "                    if(i!=row):\n",
    "                        a[i,:]=a[i,:]-a[i][column]*a[row,:]\n",
    "                continue\n",
    "            else :\n",
    "                for i in range(Nc):  \n",
    "                    if(a[i][-1]<-0.000001):\n",
    "                        column=np.argmin(a[i,:-1])\n",
    "                        if a[i][column]<0:\n",
    "                            row=i\n",
    "                            b=(a[0:-1,column])\n",
    "                            b=np.where(b==0,0.0000000001,b)\n",
    "                            ratio=((a[0:-1,-1])/b)\n",
    "                            ratio=np.where(ratio<0.01,10000,ratio)\n",
    "                            for pivot in range(len(ratio)):\n",
    "                                if ratio[pivot]>=0 and ratio[pivot]<row and b[pivot]>0 :\n",
    "                                    row=pivot\n",
    "                            a[row,:]=a[row,:]/a[row][column]\n",
    "                            fv[row]=column\n",
    "                            for j in range(Nc+1):\n",
    "                                if(j!=row):\n",
    "                                    a[j,:]=a[j,:]-a[j][column]*a[row,:]\n",
    "                            i=0\n",
    "                        else :\n",
    "                            infeasible=1\n",
    "                            return a,fv,infeasible\n",
    "    return a,fv,infeasible\n",
    "            "
   ]
  },
  {
   "cell_type": "markdown",
   "id": "4de9689a",
   "metadata": {},
   "source": [
    "The function below is used to generate one cut which we will add in our constraint, new constraint or cut generated \n",
    "will be shown in the output"
   ]
  },
  {
   "cell_type": "code",
   "execution_count": 61,
   "id": "bf8d74f0",
   "metadata": {},
   "outputs": [],
   "source": [
    "def onecut(A,B,C):\n",
    "    Nv=np.shape(A)[1] # no of variables\n",
    "    flag=0\n",
    "    Nc=np.shape(A)[0]\n",
    "    D=np.zeros([Nv,Nv+1])\n",
    "    for i in range(Nv):\n",
    "        D[i,i]=-1\n",
    "    E=np.vstack((A.T,B))\n",
    "    E=E.T\n",
    "    D=np.vstack((D,E,np.zeros(Nv+1)))\n",
    "    D[-1,-1] = -1  # Size of D = Nc+1\n",
    "    tableau=preprocessing_CP(C,A,B)\n",
    "    sol_tab,solutions,infeasible=simplex(tableau,A)\n",
    "    z=sol_tab-np.floor(sol_tab)\n",
    "    x=np.zeros(Nv)\n",
    "    for j in range(Nv) :\n",
    "        for i in range(len(solutions)):\n",
    "            if solutions[i]==j:\n",
    "                x[j]=sol_tab[i,-1]\n",
    "                \n",
    "    new_const=np.zeros(Nv+1)\n",
    "    \n",
    "    if(infeasible==1) or np.any(sol_tab[-1,0:-1]<0) or np.any(sol_tab[0:-1,-1]<0):\n",
    "        flag=100\n",
    "        return A,B,x,sol_tab[-1][-1],flag,new_const\n",
    "        \n",
    "    if np.all(z[0:-1,-1]<=0.001) :\n",
    "        flag=1\n",
    "    \n",
    "    else :\n",
    "        k=0\n",
    "        for i in range(np.shape(z)[0]-1):\n",
    "            if(z[i,-1]>=0.001):\n",
    "                k=i\n",
    "                for j in range(0,Nv+Nc+1):\n",
    "                    new_const+=z[k][j]*D[j,:]  \n",
    "                new_const=np.round(new_const,3)  \n",
    "                A=np.vstack([A,new_const[:-1]])\n",
    "                B=np.hstack((B,new_const[-1]))\n",
    "                dupli=np.vstack((A.T,B))\n",
    "                dupli=dupli.T\n",
    "                dupli2=(np.unique(dupli,axis=0))\n",
    "                if(np.shape(dupli)[0]==np.shape(dupli2)[0]):\n",
    "                    break\n",
    "                else :\n",
    "                    A=A[:-1,:]\n",
    "                    B=B[:-1]\n",
    "        if(i==np.shape(z)[0]-2):\n",
    "            flag=100\n",
    "            return A,B,x,sol_tab[-1][-1],flag,new_const\n",
    "            \n",
    "        \n",
    "    return A,B,x,sol_tab[-1][-1],flag,new_const"
   ]
  },
  {
   "cell_type": "code",
   "execution_count": 62,
   "id": "430c3be8",
   "metadata": {},
   "outputs": [],
   "source": [
    "def w(sol):\n",
    "    weigh=np.abs(C)\n",
    "    for a in range(len(C)):\n",
    "        if math.floor(sol[a])==math.ceil(sol[a]):\n",
    "            weigh[a]=0\n",
    "    return weigh"
   ]
  },
  {
   "cell_type": "markdown",
   "id": "2d7c9ed1",
   "metadata": {},
   "source": [
    "We have written the code for performing Branch and Cut below"
   ]
  },
  {
   "cell_type": "code",
   "execution_count": 63,
   "id": "c7a4c0d5",
   "metadata": {},
   "outputs": [],
   "source": [
    "def BAC(A,B,C):\n",
    "    \n",
    "    Nv=np.shape(A)[1] # no of variables\n",
    "    for k in range(1):\n",
    "        A,B,x,obj,flag,constraint=onecut(A,B,C)\n",
    "        if flag==1:\n",
    "            print(\"Solution complete \",x,obj)\n",
    "            solution.append(x)\n",
    "            return x\n",
    "        elif flag==0:\n",
    "            iterations.append(1)\n",
    "            print(\"Solution incomplete \",x,obj,\"\\n Constraint : \",constraint)\n",
    "        else:\n",
    "            print(\"Constraint not found or solution is infeasible \")\n",
    "    \n",
    "    \n",
    "    C0,A0,B0=preprocessing_BAB(C,A,B)\n",
    "    iterations.append(1)\n",
    "    sol=solvers.lp(C0,A0,B0)\n",
    "    \n",
    "    \n",
    "    if sol['x'] is None:\n",
    "        return 0\n",
    "    sol['x']=np.round(sol['x'],3)\n",
    "    print(sol['x'])\n",
    "    \n",
    "    weight=w(sol['x'])\n",
    "    i=int(np.argmax(weight))\n",
    "    d=[math.floor(sol['x'][i]),math.ceil(sol['x'][i])]\n",
    "    \n",
    "    if d[0]==d[1]:\n",
    "        if(np.sum(weight)==0):\n",
    "            solution.append(sol['x'])\n",
    "        return sol['x']\n",
    "    \n",
    "    \n",
    "        \n",
    "    # ceil \n",
    "    z=np.zeros(len(C))\n",
    "    z[i]=-1\n",
    "    A1=np.vstack([A,z])\n",
    "    B1=np.append(B,-d[1])\n",
    "    sol1=BAC(A1,B1,C)\n",
    "    # checkint(sol1)\n",
    "\n",
    "    #floor\n",
    "    z=np.zeros(len(C))\n",
    "    z[i]=1\n",
    "    A2=np.vstack([A,z])\n",
    "    B2=np.append(B,d[0])\n",
    "    sol2=BAC(A2,B2,C)\n",
    "    #checkint(sol2)\n",
    "    \n",
    "    "
   ]
  },
  {
   "cell_type": "markdown",
   "id": "23d38aca",
   "metadata": {},
   "source": [
    "Running the Branch and Cut algorithm"
   ]
  },
  {
   "cell_type": "code",
   "execution_count": 64,
   "id": "7d205f3e",
   "metadata": {},
   "outputs": [
    {
     "name": "stdout",
     "output_type": "stream",
     "text": [
      "Solution incomplete  [3.5        0.         5.33333333 0.        ] 300.0 \n",
      " Constraint :  [ 1.  0.  0. -1.  3.]\n",
      "     pcost       dcost       gap    pres   dres   k/t\n",
      " 0: -2.9110e+02 -2.8768e+03  1e+02  8e-03  8e+00  1e+00\n",
      " 1: -2.9602e+02 -5.2355e+02  7e+00  7e-04  7e-01  6e-01\n",
      " 2: -2.9659e+02 -3.2586e+02  8e-01  1e-04  1e-01  8e-02\n",
      " 3: -2.9666e+02 -2.9801e+02  3e-02  4e-06  4e-03  3e-03\n",
      " 4: -2.9667e+02 -2.9668e+02  3e-04  4e-08  4e-05  3e-05\n",
      " 5: -2.9667e+02 -2.9667e+02  3e-06  4e-10  4e-07  3e-07\n",
      " 6: -2.9667e+02 -2.9667e+02  3e-08  4e-12  4e-09  3e-09\n",
      "Optimal solution found.\n",
      "[[3.367]\n",
      " [0.283]\n",
      " [5.089]\n",
      " [0.367]]\n",
      "Constraint not found or solution is infeasible \n",
      "     pcost       dcost       gap    pres   dres   k/t\n",
      " 0: -2.9245e+02 -2.7929e+03  1e+02  9e-03  8e+00  1e+00\n",
      " 1: -2.9561e+02 -6.7229e+02  1e+01  1e-03  1e+00  6e-01\n",
      " 2: -2.8668e+02 -1.1760e+03  1e+02  3e-03  3e+00  4e+00\n",
      " 3: -2.8014e+02 -6.6834e+02  8e+01  1e-03  1e+00  3e+00\n",
      " 4: -2.9565e+02 -6.2584e+02  2e+02  1e-03  1e+00  1e+01\n",
      " 5: -2.8294e+02 -4.0394e+02  2e+03  9e-04  8e-01  1e+02\n",
      " 6: -2.8284e+02  1.1951e+04  2e+05  9e-04  8e-01  1e+04\n",
      " 7: -2.8284e+02  1.2478e+06  2e+07  9e-04  8e-01  1e+06\n",
      " 8: -2.8284e+02  1.2483e+08  2e+09  9e-04  8e-01  1e+08\n",
      "Certificate of primal infeasibility found.\n",
      "Solution incomplete  [3.         1.         4.66666667 1.        ] 290.0 \n",
      " Constraint :  [ 7.  4.  7.  4. 61.]\n",
      "     pcost       dcost       gap    pres   dres   k/t\n",
      " 0: -2.9027e+02 -2.9077e+03  1e+02  9e-03  9e+00  1e+00\n",
      " 1: -2.9337e+02 -8.1167e+02  2e+01  2e-03  2e+00  6e-01\n",
      " 2: -2.9070e+02 -7.6023e+02  3e+01  2e-03  2e+00  1e+00\n",
      " 3: -2.8974e+02 -4.6632e+02  1e+01  6e-04  6e-01  6e-01\n",
      " 4: -2.8289e+02 -3.5964e+02  9e+00  3e-04  3e-01  5e-01\n",
      " 5: -2.8005e+02 -2.8151e+02  2e-01  5e-06  5e-03  8e-03\n",
      " 6: -2.8000e+02 -2.8002e+02  2e-03  5e-08  5e-05  8e-05\n",
      " 7: -2.8000e+02 -2.8000e+02  2e-05  5e-10  5e-07  8e-07\n",
      " 8: -2.8000e+02 -2.8000e+02  2e-07  5e-12  5e-09  8e-09\n",
      "Optimal solution found.\n",
      "[[3.]\n",
      " [1.]\n",
      " [4.]\n",
      " [2.]]\n"
     ]
    }
   ],
   "source": [
    "start_time=time.time()\n",
    "BAC(A,B,C)          "
   ]
  },
  {
   "cell_type": "code",
   "execution_count": 65,
   "id": "f1b43231",
   "metadata": {},
   "outputs": [
    {
     "name": "stdout",
     "output_type": "stream",
     "text": [
      "[[3.]\n",
      " [1.]\n",
      " [4.]\n",
      " [2.]] -280.0\n"
     ]
    }
   ],
   "source": [
    "objective=np.zeros(len(solution))\n",
    "for j in range(len(solution)):\n",
    "    x=solution[j]\n",
    "    objective[j]=np.matmul(C.T,x)\n",
    "    #print(x[-n:],objective[j])\n",
    "    \n",
    "optimal=np.argmin(objective)\n",
    "x=solution[optimal]\n",
    "print(x,objective[optimal])"
   ]
  },
  {
   "cell_type": "code",
   "execution_count": 66,
   "id": "f07133ac",
   "metadata": {},
   "outputs": [
    {
     "name": "stdout",
     "output_type": "stream",
     "text": [
      "No. of iterations :  5\n",
      "Time Taken :  0.166\n"
     ]
    }
   ],
   "source": [
    "print(\"No. of iterations : \",len(iterations))\n",
    "print(\"Time Taken : \",np.round(time.time()-start_time,3))"
   ]
  }
 ],
 "metadata": {
  "kernelspec": {
   "display_name": "Python 3",
   "language": "python",
   "name": "python3"
  },
  "language_info": {
   "codemirror_mode": {
    "name": "ipython",
    "version": 3
   },
   "file_extension": ".py",
   "mimetype": "text/x-python",
   "name": "python",
   "nbconvert_exporter": "python",
   "pygments_lexer": "ipython3",
   "version": "3.8.8"
  }
 },
 "nbformat": 4,
 "nbformat_minor": 5
}
