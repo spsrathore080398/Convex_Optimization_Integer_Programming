{
 "cells": [
  {
   "cell_type": "code",
   "execution_count": 1,
   "id": "40cf1f64",
   "metadata": {},
   "outputs": [],
   "source": [
    "import numpy as np\n",
    "from cvxopt import matrix,solvers\n",
    "import math as m\n",
    "import time"
   ]
  },
  {
   "cell_type": "markdown",
   "id": "99f7a4be",
   "metadata": {},
   "source": [
    "We have done the production planning application and defined the A,B and C matrix in standard form(max C^T.x such \n",
    "that Ax<=b, modify those accordingly for different examples,(for max C^T.x with constraint AX <=B, C array values should be written in negative, if we have to maximize function )"
   ]
  },
  {
   "cell_type": "code",
   "execution_count": 2,
   "id": "cd52a077",
   "metadata": {},
   "outputs": [],
   "source": [
    "A=np.array([[100,60,120,70],[-2,-1,0,0],[0,0,-3,-2],[1,1,0,0],[0,0,1,1]]).astype(np.float64)\n",
    "B=np.array([990,-7,-16,10,6]).astype(np.float64)\n",
    "C=np.array([-40,-20,-30,-10]).astype(np.float64)\n",
    "solution=[]\n",
    "iterations=[]"
   ]
  },
  {
   "cell_type": "markdown",
   "id": "43dd6fa2",
   "metadata": {},
   "source": [
    "In below blocks, we have done preprocessing to include constraint that all variables are greater than zero,\n",
    "and then we have written code which will branch the variable and bound it by floor and ceil function, we will take variable\n",
    "which has highest role in optimum function, and then we will run algorithm"
   ]
  },
  {
   "cell_type": "code",
   "execution_count": 3,
   "id": "aad25da8",
   "metadata": {},
   "outputs": [],
   "source": [
    "def w(sol):\n",
    "    weigh=np.abs(C)\n",
    "    for a in range(len(C)):\n",
    "        if m.floor(sol[a])==m.ceil(sol[a]):\n",
    "            weigh[a]=0\n",
    "    return weigh"
   ]
  },
  {
   "cell_type": "code",
   "execution_count": 4,
   "id": "044abfb7",
   "metadata": {},
   "outputs": [],
   "source": [
    "def preprocessing_BAB(c,a,b) :\n",
    "    Nc=np.shape(a)[0]\n",
    "    Nv=np.shape(a)[1]\n",
    "    b=np.hstack((b,(np.zeros(Nv))))\n",
    "    I=np.eye(Nv)\n",
    "    a=np.append(a,-I,axis=0)\n",
    "    c=matrix(c)\n",
    "    b=matrix(b)\n",
    "    a=matrix(a)\n",
    "    return c,a,b"
   ]
  },
  {
   "cell_type": "markdown",
   "id": "8015d25e",
   "metadata": {},
   "source": [
    "Running the branch and bound algorithm , and showing thr results below"
   ]
  },
  {
   "cell_type": "code",
   "execution_count": 5,
   "id": "4d046b1e",
   "metadata": {},
   "outputs": [],
   "source": [
    "def BAB(A,B,C):\n",
    "    C,A,B=preprocessing_BAB(C,A,B)\n",
    "    sol=solvers.lp(C,A,B);\n",
    "    iterations.append(1)\n",
    "    \n",
    "    if sol['x'] is None:\n",
    "        return 0\n",
    "    sol['x']=np.round(sol['x'],3)\n",
    "    print(sol['x'])\n",
    "    \n",
    "    weight=w(sol['x'])\n",
    "    i=int(np.argmax(weight))\n",
    "    d=[m.floor(sol['x'][i]),m.ceil(sol['x'][i])]\n",
    "    \n",
    "    if d[0]==d[1]:\n",
    "        if(np.sum(weight)==0):\n",
    "            solution.append(sol['x'])\n",
    "        return sol['x']\n",
    "    \n",
    "    \n",
    "        \n",
    "    # ceil \n",
    "    z=np.zeros(len(C))\n",
    "    z[i]=-1\n",
    "    A1=np.vstack([A,z])\n",
    "    B1=np.append(B,-d[1])\n",
    "    sol1=BAB(A1,B1,C)\n",
    "    # checkint(sol1)\n",
    "\n",
    "    #floor\n",
    "    z=np.zeros(len(C))\n",
    "    z[i]=1\n",
    "    A2=np.vstack([A,z])\n",
    "    B2=np.append(B,d[0])\n",
    "    sol2=BAB(A2,B2,C)\n",
    "    #checkint(sol2)\n",
    "    \n",
    "    "
   ]
  },
  {
   "cell_type": "code",
   "execution_count": 6,
   "id": "1e0d281a",
   "metadata": {},
   "outputs": [
    {
     "name": "stdout",
     "output_type": "stream",
     "text": [
      "     pcost       dcost       gap    pres   dres   k/t\n",
      " 0: -2.8002e+02 -3.7933e+03  1e+02  7e-03  1e+01  1e+00\n",
      " 1: -2.9795e+02 -4.8734e+02  6e+00  4e-04  6e-01  3e-01\n",
      " 2: -2.9995e+02 -3.0359e+02  1e-01  7e-06  1e-02  4e-03\n",
      " 3: -3.0000e+02 -3.0004e+02  1e-03  7e-08  1e-04  4e-05\n",
      " 4: -3.0000e+02 -3.0000e+02  1e-05  7e-10  1e-06  4e-07\n",
      " 5: -3.0000e+02 -3.0000e+02  1e-07  7e-12  1e-08  4e-09\n",
      "Optimal solution found.\n",
      "[[3.5  ]\n",
      " [0.   ]\n",
      " [5.333]\n",
      " [0.   ]]\n",
      "     pcost       dcost       gap    pres   dres   k/t\n",
      " 0: -2.8528e+02 -3.0504e+03  2e+02  9e-03  9e+00  1e+00\n",
      " 1: -2.9392e+02 -9.4571e+02  3e+01  2e-03  2e+00  1e+00\n",
      " 2: -2.7679e+02 -1.8252e+03  4e+02  5e-03  5e+00  8e+00\n",
      " 3: -3.0363e+02 -9.3429e+02  3e+02  2e-03  2e+00  2e+01\n",
      " 4: -2.8319e+02 -5.5379e+02  2e+02  9e-04  9e-01  1e+01\n",
      " 5: -2.8249e+02  3.8220e+02  2e+04  1e-03  1e+00  1e+03\n",
      " 6: -2.8248e+02  1.0040e+05  2e+06  1e-03  1e+00  1e+05\n",
      " 7: -2.8248e+02  1.0102e+07  2e+08  1e-03  1e+00  1e+07\n",
      " 8: -2.8248e+02  1.0103e+09  2e+10  1e-03  1e+00  1e+09\n",
      "Certificate of primal infeasibility found.\n",
      "     pcost       dcost       gap    pres   dres   k/t\n",
      " 0: -2.8399e+02 -3.0689e+03  2e+02  9e-03  9e+00  1e+00\n",
      " 1: -2.9418e+02 -6.7548e+02  2e+01  1e-03  1e+00  7e-01\n",
      " 2: -2.9542e+02 -5.8922e+02  2e+01  9e-04  1e+00  9e-01\n",
      " 3: -2.9477e+02 -3.7736e+02  6e+00  3e-04  3e-01  4e-01\n",
      " 4: -2.9068e+02 -3.0501e+02  1e+00  4e-05  5e-02  1e-01\n",
      " 5: -2.9001e+02 -2.9018e+02  2e-02  5e-07  6e-04  1e-03\n",
      " 6: -2.9000e+02 -2.9000e+02  2e-04  5e-09  6e-06  1e-05\n",
      " 7: -2.9000e+02 -2.9000e+02  2e-06  5e-11  6e-08  1e-07\n",
      "Optimal solution found.\n",
      "[[3.   ]\n",
      " [1.   ]\n",
      " [4.667]\n",
      " [1.   ]]\n",
      "     pcost       dcost       gap    pres   dres   k/t\n",
      " 0: -2.8550e+02 -3.0023e+03  2e+02  1e-02  9e+00  1e+00\n",
      " 1: -2.9290e+02 -6.7570e+02  2e+01  1e-03  1e+00  7e-01\n",
      " 2: -2.9651e+02 -4.7978e+02  1e+01  7e-04  6e-01  6e-01\n",
      " 3: -2.9543e+02 -3.7338e+02  6e+00  3e-04  3e-01  4e-01\n",
      " 4: -2.9335e+02 -3.4469e+02  6e+00  2e-04  2e-01  3e-01\n",
      " 5: -2.9691e+02 -4.2708e+02  9e+01  5e-04  4e-01  2e+00\n",
      " 6: -2.9383e+02 -3.3552e+02  1e+03  3e-04  3e-01  4e+01\n",
      " 7: -2.9383e+02  3.2925e+03  1e+05  3e-04  3e-01  4e+03\n",
      " 8: -2.9383e+02  3.6611e+05  1e+07  3e-04  3e-01  4e+05\n",
      " 9: -2.9383e+02  3.6648e+07  1e+09  3e-04  3e-01  4e+07\n",
      "Certificate of primal infeasibility found.\n",
      "     pcost       dcost       gap    pres   dres   k/t\n",
      " 0: -2.8515e+02 -3.0269e+03  2e+02  1e-02  9e+00  1e+00\n",
      " 1: -2.8698e+02 -1.1095e+03  5e+01  3e-03  3e+00  1e+00\n",
      " 2: -2.8344e+02 -5.6848e+02  2e+01  1e-03  9e-01  1e+00\n",
      " 3: -2.8336e+02 -3.0190e+02  1e+00  7e-05  6e-02  6e-02\n",
      " 4: -2.8333e+02 -2.8357e+02  1e-02  8e-07  8e-04  8e-04\n",
      " 5: -2.8333e+02 -2.8334e+02  1e-04  8e-09  8e-06  8e-06\n",
      " 6: -2.8333e+02 -2.8333e+02  1e-06  8e-11  8e-08  8e-08\n",
      "Optimal solution found.\n",
      "[[3.   ]\n",
      " [1.167]\n",
      " [4.   ]\n",
      " [2.   ]]\n",
      "     pcost       dcost       gap    pres   dres   k/t\n",
      " 0: -2.8557e+02 -2.9137e+03  3e+02  1e-02  8e+00  1e+00\n",
      " 1: -2.8268e+02 -1.0900e+03  6e+01  3e-03  3e+00  2e+00\n",
      " 2: -2.8014e+02 -6.0271e+02  3e+01  1e-03  1e+00  1e+00\n",
      " 3: -2.8008e+02 -2.9573e+02  1e+00  6e-05  5e-02  7e-02\n",
      " 4: -2.8000e+02 -2.8016e+02  1e-02  6e-07  5e-04  7e-04\n",
      " 5: -2.8000e+02 -2.8000e+02  1e-04  6e-09  5e-06  7e-06\n",
      " 6: -2.8000e+02 -2.8000e+02  1e-06  6e-11  5e-08  7e-08\n",
      "Optimal solution found.\n",
      "[[2.5]\n",
      " [2. ]\n",
      " [4. ]\n",
      " [2. ]]\n",
      "     pcost       dcost       gap    pres   dres   k/t\n",
      " 0: -2.8584e+02 -2.7387e+03  3e+02  1e-02  8e+00  1e+00\n",
      " 1: -2.8067e+02 -1.0760e+03  7e+01  4e-03  3e+00  2e+00\n",
      " 2: -2.8393e+02 -1.0225e+03  9e+01  4e-03  2e+00  2e+00\n",
      " 3: -2.7521e+02 -6.0999e+02  7e+01  2e-03  1e+00  2e+00\n",
      " 4: -2.8624e+02 -7.5649e+02  2e+02  2e-03  1e+00  5e+00\n",
      " 5: -2.7443e+02 -6.2750e+02  2e+02  2e-03  1e+00  5e+00\n",
      " 6: -2.7566e+02 -4.6433e+02  8e+03  2e-03  1e+00  2e+02\n",
      " 7: -2.7565e+02  1.9886e+04  8e+05  2e-03  1e+00  2e+04\n",
      " 8: -2.7565e+02  2.0549e+06  8e+07  2e-03  1e+00  2e+06\n",
      " 9: -2.7565e+02  2.0556e+08  8e+09  2e-03  1e+00  2e+08\n",
      "Certificate of primal infeasibility found.\n",
      "     pcost       dcost       gap    pres   dres   k/t\n",
      " 0: -2.8504e+02 -2.7503e+03  3e+02  1e-02  8e+00  1e+00\n",
      " 1: -2.8102e+02 -1.0030e+03  6e+01  3e-03  2e+00  1e+00\n",
      " 2: -2.7631e+02 -6.4330e+02  4e+01  2e-03  1e+00  1e+00\n",
      " 3: -2.7628e+02 -3.8107e+02  1e+01  5e-04  3e-01  5e-01\n",
      " 4: -2.7458e+02 -3.8455e+02  2e+01  5e-04  3e-01  6e-01\n",
      " 5: -2.7591e+02 -4.2016e+02  1e+02  7e-04  5e-01  3e+00\n",
      " 6: -2.7609e+02 -1.9821e+02  1e+04  7e-04  5e-01  2e+02\n",
      " 7: -2.7609e+02  2.3182e+04  1e+06  7e-04  5e-01  2e+04\n",
      " 8: -2.7609e+02  2.3612e+06  1e+08  7e-04  5e-01  2e+06\n",
      " 9: -2.7609e+02  2.3616e+08  1e+10  7e-04  5e-01  2e+08\n",
      "Certificate of primal infeasibility found.\n",
      "     pcost       dcost       gap    pres   dres   k/t\n",
      " 0: -2.8580e+02 -2.9220e+03  3e+02  1e-02  8e+00  1e+00\n",
      " 1: -2.8709e+02 -1.0362e+03  5e+01  3e-03  2e+00  1e+00\n",
      " 2: -2.8259e+02 -6.0321e+02  2e+01  1e-03  1e+00  1e+00\n",
      " 3: -2.8308e+02 -3.8275e+02  7e+00  4e-04  3e-01  4e-01\n",
      " 4: -2.8238e+02 -3.9194e+02  1e+01  4e-04  4e-01  5e-01\n",
      " 5: -2.8165e+02 -3.5925e+02  1e+01  3e-04  2e-01  4e-01\n",
      " 6: -2.8085e+02 -2.9625e+02  2e+00  6e-05  5e-02  9e-02\n",
      " 7: -2.8002e+02 -2.8038e+02  5e-02  1e-06  1e-03  9e-04\n",
      " 8: -2.8000e+02 -2.8000e+02  5e-04  1e-08  1e-05  9e-06\n",
      " 9: -2.8000e+02 -2.8000e+02  5e-06  1e-10  1e-07  9e-08\n",
      "10: -2.8000e+02 -2.8000e+02  5e-08  1e-12  1e-09  9e-10\n",
      "Optimal solution found.\n",
      "[[3.]\n",
      " [1.]\n",
      " [4.]\n",
      " [2.]]\n"
     ]
    }
   ],
   "source": [
    "start_time=time.time()\n",
    "BAB(A,B,C)\n",
    "            "
   ]
  },
  {
   "cell_type": "code",
   "execution_count": 7,
   "id": "01a32fbf",
   "metadata": {},
   "outputs": [
    {
     "name": "stdout",
     "output_type": "stream",
     "text": [
      "[[3.]\n",
      " [1.]\n",
      " [4.]\n",
      " [2.]] -280.0\n"
     ]
    }
   ],
   "source": [
    "objective=np.zeros(len(solution))\n",
    "for j in range(len(solution)):\n",
    "    x=solution[j]\n",
    "    objective[j]=np.matmul(C.T,x)\n",
    "    \n",
    "optimal=np.argmin(objective)\n",
    "x=solution[optimal]\n",
    "print(x,objective[optimal])"
   ]
  },
  {
   "cell_type": "code",
   "execution_count": 8,
   "id": "f3a7d05a",
   "metadata": {},
   "outputs": [
    {
     "name": "stdout",
     "output_type": "stream",
     "text": [
      "9\n",
      "0.156\n"
     ]
    }
   ],
   "source": [
    "print(len(iterations))\n",
    "print(np.round(time.time()-start_time,3))"
   ]
  }
 ],
 "metadata": {
  "kernelspec": {
   "display_name": "Python 3",
   "language": "python",
   "name": "python3"
  },
  "language_info": {
   "codemirror_mode": {
    "name": "ipython",
    "version": 3
   },
   "file_extension": ".py",
   "mimetype": "text/x-python",
   "name": "python",
   "nbconvert_exporter": "python",
   "pygments_lexer": "ipython3",
   "version": "3.8.8"
  }
 },
 "nbformat": 4,
 "nbformat_minor": 5
}
